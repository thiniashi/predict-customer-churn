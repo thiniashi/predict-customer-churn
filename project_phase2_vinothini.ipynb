{
  "nbformat": 4,
  "nbformat_minor": 0,
  "metadata": {
    "colab": {
      "provenance": [],
      "toc_visible": true
    },
    "kernelspec": {
      "name": "python3",
      "display_name": "Python 3"
    },
    "language_info": {
      "name": "python"
    }
  },
  "cells": [
    {
      "cell_type": "code",
      "source": [
        "from google.colab import files\n",
        "uploaded = files.upload()"
      ],
      "metadata": {
        "colab": {
          "base_uri": "https://localhost:8080/",
          "height": 73
        },
        "id": "Ru5XDrmPipQe",
        "outputId": "403cd9e4-12dc-437e-b56a-b65c764e0328"
      },
      "execution_count": null,
      "outputs": [
        {
          "output_type": "display_data",
          "data": {
            "text/plain": [
              "<IPython.core.display.HTML object>"
            ],
            "text/html": [
              "\n",
              "     <input type=\"file\" id=\"files-40adb009-747f-4243-b46b-92957d02ef1f\" name=\"files[]\" multiple disabled\n",
              "        style=\"border:none\" />\n",
              "     <output id=\"result-40adb009-747f-4243-b46b-92957d02ef1f\">\n",
              "      Upload widget is only available when the cell has been executed in the\n",
              "      current browser session. Please rerun this cell to enable.\n",
              "      </output>\n",
              "      <script>// Copyright 2017 Google LLC\n",
              "//\n",
              "// Licensed under the Apache License, Version 2.0 (the \"License\");\n",
              "// you may not use this file except in compliance with the License.\n",
              "// You may obtain a copy of the License at\n",
              "//\n",
              "//      http://www.apache.org/licenses/LICENSE-2.0\n",
              "//\n",
              "// Unless required by applicable law or agreed to in writing, software\n",
              "// distributed under the License is distributed on an \"AS IS\" BASIS,\n",
              "// WITHOUT WARRANTIES OR CONDITIONS OF ANY KIND, either express or implied.\n",
              "// See the License for the specific language governing permissions and\n",
              "// limitations under the License.\n",
              "\n",
              "/**\n",
              " * @fileoverview Helpers for google.colab Python module.\n",
              " */\n",
              "(function(scope) {\n",
              "function span(text, styleAttributes = {}) {\n",
              "  const element = document.createElement('span');\n",
              "  element.textContent = text;\n",
              "  for (const key of Object.keys(styleAttributes)) {\n",
              "    element.style[key] = styleAttributes[key];\n",
              "  }\n",
              "  return element;\n",
              "}\n",
              "\n",
              "// Max number of bytes which will be uploaded at a time.\n",
              "const MAX_PAYLOAD_SIZE = 100 * 1024;\n",
              "\n",
              "function _uploadFiles(inputId, outputId) {\n",
              "  const steps = uploadFilesStep(inputId, outputId);\n",
              "  const outputElement = document.getElementById(outputId);\n",
              "  // Cache steps on the outputElement to make it available for the next call\n",
              "  // to uploadFilesContinue from Python.\n",
              "  outputElement.steps = steps;\n",
              "\n",
              "  return _uploadFilesContinue(outputId);\n",
              "}\n",
              "\n",
              "// This is roughly an async generator (not supported in the browser yet),\n",
              "// where there are multiple asynchronous steps and the Python side is going\n",
              "// to poll for completion of each step.\n",
              "// This uses a Promise to block the python side on completion of each step,\n",
              "// then passes the result of the previous step as the input to the next step.\n",
              "function _uploadFilesContinue(outputId) {\n",
              "  const outputElement = document.getElementById(outputId);\n",
              "  const steps = outputElement.steps;\n",
              "\n",
              "  const next = steps.next(outputElement.lastPromiseValue);\n",
              "  return Promise.resolve(next.value.promise).then((value) => {\n",
              "    // Cache the last promise value to make it available to the next\n",
              "    // step of the generator.\n",
              "    outputElement.lastPromiseValue = value;\n",
              "    return next.value.response;\n",
              "  });\n",
              "}\n",
              "\n",
              "/**\n",
              " * Generator function which is called between each async step of the upload\n",
              " * process.\n",
              " * @param {string} inputId Element ID of the input file picker element.\n",
              " * @param {string} outputId Element ID of the output display.\n",
              " * @return {!Iterable<!Object>} Iterable of next steps.\n",
              " */\n",
              "function* uploadFilesStep(inputId, outputId) {\n",
              "  const inputElement = document.getElementById(inputId);\n",
              "  inputElement.disabled = false;\n",
              "\n",
              "  const outputElement = document.getElementById(outputId);\n",
              "  outputElement.innerHTML = '';\n",
              "\n",
              "  const pickedPromise = new Promise((resolve) => {\n",
              "    inputElement.addEventListener('change', (e) => {\n",
              "      resolve(e.target.files);\n",
              "    });\n",
              "  });\n",
              "\n",
              "  const cancel = document.createElement('button');\n",
              "  inputElement.parentElement.appendChild(cancel);\n",
              "  cancel.textContent = 'Cancel upload';\n",
              "  const cancelPromise = new Promise((resolve) => {\n",
              "    cancel.onclick = () => {\n",
              "      resolve(null);\n",
              "    };\n",
              "  });\n",
              "\n",
              "  // Wait for the user to pick the files.\n",
              "  const files = yield {\n",
              "    promise: Promise.race([pickedPromise, cancelPromise]),\n",
              "    response: {\n",
              "      action: 'starting',\n",
              "    }\n",
              "  };\n",
              "\n",
              "  cancel.remove();\n",
              "\n",
              "  // Disable the input element since further picks are not allowed.\n",
              "  inputElement.disabled = true;\n",
              "\n",
              "  if (!files) {\n",
              "    return {\n",
              "      response: {\n",
              "        action: 'complete',\n",
              "      }\n",
              "    };\n",
              "  }\n",
              "\n",
              "  for (const file of files) {\n",
              "    const li = document.createElement('li');\n",
              "    li.append(span(file.name, {fontWeight: 'bold'}));\n",
              "    li.append(span(\n",
              "        `(${file.type || 'n/a'}) - ${file.size} bytes, ` +\n",
              "        `last modified: ${\n",
              "            file.lastModifiedDate ? file.lastModifiedDate.toLocaleDateString() :\n",
              "                                    'n/a'} - `));\n",
              "    const percent = span('0% done');\n",
              "    li.appendChild(percent);\n",
              "\n",
              "    outputElement.appendChild(li);\n",
              "\n",
              "    const fileDataPromise = new Promise((resolve) => {\n",
              "      const reader = new FileReader();\n",
              "      reader.onload = (e) => {\n",
              "        resolve(e.target.result);\n",
              "      };\n",
              "      reader.readAsArrayBuffer(file);\n",
              "    });\n",
              "    // Wait for the data to be ready.\n",
              "    let fileData = yield {\n",
              "      promise: fileDataPromise,\n",
              "      response: {\n",
              "        action: 'continue',\n",
              "      }\n",
              "    };\n",
              "\n",
              "    // Use a chunked sending to avoid message size limits. See b/62115660.\n",
              "    let position = 0;\n",
              "    do {\n",
              "      const length = Math.min(fileData.byteLength - position, MAX_PAYLOAD_SIZE);\n",
              "      const chunk = new Uint8Array(fileData, position, length);\n",
              "      position += length;\n",
              "\n",
              "      const base64 = btoa(String.fromCharCode.apply(null, chunk));\n",
              "      yield {\n",
              "        response: {\n",
              "          action: 'append',\n",
              "          file: file.name,\n",
              "          data: base64,\n",
              "        },\n",
              "      };\n",
              "\n",
              "      let percentDone = fileData.byteLength === 0 ?\n",
              "          100 :\n",
              "          Math.round((position / fileData.byteLength) * 100);\n",
              "      percent.textContent = `${percentDone}% done`;\n",
              "\n",
              "    } while (position < fileData.byteLength);\n",
              "  }\n",
              "\n",
              "  // All done.\n",
              "  yield {\n",
              "    response: {\n",
              "      action: 'complete',\n",
              "    }\n",
              "  };\n",
              "}\n",
              "\n",
              "scope.google = scope.google || {};\n",
              "scope.google.colab = scope.google.colab || {};\n",
              "scope.google.colab._files = {\n",
              "  _uploadFiles,\n",
              "  _uploadFilesContinue,\n",
              "};\n",
              "})(self);\n",
              "</script> "
            ]
          },
          "metadata": {}
        },
        {
          "output_type": "stream",
          "name": "stdout",
          "text": [
            "Saving Bank Customer Churn Prediction.csv to Bank Customer Churn Prediction.csv\n"
          ]
        }
      ]
    },
    {
      "cell_type": "markdown",
      "source": [
        "upload the dataset"
      ],
      "metadata": {
        "id": "c4DL70-pikbR"
      }
    },
    {
      "cell_type": "markdown",
      "source": [
        "load the dataset"
      ],
      "metadata": {
        "id": "k6-fd9FkjIhF"
      }
    },
    {
      "cell_type": "code",
      "source": [
        "import pandas as pd\n",
        "df = pd.read_csv('Bank Customer Churn Prediction.csv',sep=';')"
      ],
      "metadata": {
        "id": "SJF_-UC3jLu-"
      },
      "execution_count": null,
      "outputs": []
    },
    {
      "cell_type": "markdown",
      "source": [
        "data exploration"
      ],
      "metadata": {
        "id": "DLYZP1tkkmVS"
      }
    },
    {
      "cell_type": "code",
      "source": [
        "df.head()\n",
        "print(\"Shape:\",df.shape)\n",
        "#column names\n",
        "print(\"columns:\",df.columns)\n",
        "#Data types and non-null values\n",
        "df.info()\n",
        "df.describe()"
      ],
      "metadata": {
        "colab": {
          "base_uri": "https://localhost:8080/",
          "height": 368
        },
        "id": "VOP1uX3_krEP",
        "outputId": "c9bc27ab-80d8-46e4-ebde-1680872d8e3a"
      },
      "execution_count": null,
      "outputs": [
        {
          "output_type": "stream",
          "name": "stdout",
          "text": [
            "Shape: (10000, 1)\n",
            "columns: Index(['customer_id,credit_score,country,gender,age,tenure,balance,products_number,credit_card,active_member,estimated_salary,churn'], dtype='object')\n",
            "<class 'pandas.core.frame.DataFrame'>\n",
            "RangeIndex: 10000 entries, 0 to 9999\n",
            "Data columns (total 1 columns):\n",
            " #   Column                                                                                                                       Non-Null Count  Dtype \n",
            "---  ------                                                                                                                       --------------  ----- \n",
            " 0   customer_id,credit_score,country,gender,age,tenure,balance,products_number,credit_card,active_member,estimated_salary,churn  10000 non-null  object\n",
            "dtypes: object(1)\n",
            "memory usage: 78.3+ KB\n"
          ]
        },
        {
          "output_type": "execute_result",
          "data": {
            "text/plain": [
              "       customer_id,credit_score,country,gender,age,tenure,balance,products_number,credit_card,active_member,estimated_salary,churn\n",
              "count                                               10000                                                                         \n",
              "unique                                              10000                                                                         \n",
              "top     15656710,613,France,Male,40,4,0,1,0,0,151325.24,0                                                                         \n",
              "freq                                                    1                                                                         "
            ],
            "text/html": [
              "\n",
              "  <div id=\"df-c22ad301-4b7e-4bc4-a9d1-df3ab30c7079\" class=\"colab-df-container\">\n",
              "    <div>\n",
              "<style scoped>\n",
              "    .dataframe tbody tr th:only-of-type {\n",
              "        vertical-align: middle;\n",
              "    }\n",
              "\n",
              "    .dataframe tbody tr th {\n",
              "        vertical-align: top;\n",
              "    }\n",
              "\n",
              "    .dataframe thead th {\n",
              "        text-align: right;\n",
              "    }\n",
              "</style>\n",
              "<table border=\"1\" class=\"dataframe\">\n",
              "  <thead>\n",
              "    <tr style=\"text-align: right;\">\n",
              "      <th></th>\n",
              "      <th>customer_id,credit_score,country,gender,age,tenure,balance,products_number,credit_card,active_member,estimated_salary,churn</th>\n",
              "    </tr>\n",
              "  </thead>\n",
              "  <tbody>\n",
              "    <tr>\n",
              "      <th>count</th>\n",
              "      <td>10000</td>\n",
              "    </tr>\n",
              "    <tr>\n",
              "      <th>unique</th>\n",
              "      <td>10000</td>\n",
              "    </tr>\n",
              "    <tr>\n",
              "      <th>top</th>\n",
              "      <td>15656710,613,France,Male,40,4,0,1,0,0,151325.24,0</td>\n",
              "    </tr>\n",
              "    <tr>\n",
              "      <th>freq</th>\n",
              "      <td>1</td>\n",
              "    </tr>\n",
              "  </tbody>\n",
              "</table>\n",
              "</div>\n",
              "    <div class=\"colab-df-buttons\">\n",
              "\n",
              "  <div class=\"colab-df-container\">\n",
              "    <button class=\"colab-df-convert\" onclick=\"convertToInteractive('df-c22ad301-4b7e-4bc4-a9d1-df3ab30c7079')\"\n",
              "            title=\"Convert this dataframe to an interactive table.\"\n",
              "            style=\"display:none;\">\n",
              "\n",
              "  <svg xmlns=\"http://www.w3.org/2000/svg\" height=\"24px\" viewBox=\"0 -960 960 960\">\n",
              "    <path d=\"M120-120v-720h720v720H120Zm60-500h600v-160H180v160Zm220 220h160v-160H400v160Zm0 220h160v-160H400v160ZM180-400h160v-160H180v160Zm440 0h160v-160H620v160ZM180-180h160v-160H180v160Zm440 0h160v-160H620v160Z\"/>\n",
              "  </svg>\n",
              "    </button>\n",
              "\n",
              "  <style>\n",
              "    .colab-df-container {\n",
              "      display:flex;\n",
              "      gap: 12px;\n",
              "    }\n",
              "\n",
              "    .colab-df-convert {\n",
              "      background-color: #E8F0FE;\n",
              "      border: none;\n",
              "      border-radius: 50%;\n",
              "      cursor: pointer;\n",
              "      display: none;\n",
              "      fill: #1967D2;\n",
              "      height: 32px;\n",
              "      padding: 0 0 0 0;\n",
              "      width: 32px;\n",
              "    }\n",
              "\n",
              "    .colab-df-convert:hover {\n",
              "      background-color: #E2EBFA;\n",
              "      box-shadow: 0px 1px 2px rgba(60, 64, 67, 0.3), 0px 1px 3px 1px rgba(60, 64, 67, 0.15);\n",
              "      fill: #174EA6;\n",
              "    }\n",
              "\n",
              "    .colab-df-buttons div {\n",
              "      margin-bottom: 4px;\n",
              "    }\n",
              "\n",
              "    [theme=dark] .colab-df-convert {\n",
              "      background-color: #3B4455;\n",
              "      fill: #D2E3FC;\n",
              "    }\n",
              "\n",
              "    [theme=dark] .colab-df-convert:hover {\n",
              "      background-color: #434B5C;\n",
              "      box-shadow: 0px 1px 3px 1px rgba(0, 0, 0, 0.15);\n",
              "      filter: drop-shadow(0px 1px 2px rgba(0, 0, 0, 0.3));\n",
              "      fill: #FFFFFF;\n",
              "    }\n",
              "  </style>\n",
              "\n",
              "    <script>\n",
              "      const buttonEl =\n",
              "        document.querySelector('#df-c22ad301-4b7e-4bc4-a9d1-df3ab30c7079 button.colab-df-convert');\n",
              "      buttonEl.style.display =\n",
              "        google.colab.kernel.accessAllowed ? 'block' : 'none';\n",
              "\n",
              "      async function convertToInteractive(key) {\n",
              "        const element = document.querySelector('#df-c22ad301-4b7e-4bc4-a9d1-df3ab30c7079');\n",
              "        const dataTable =\n",
              "          await google.colab.kernel.invokeFunction('convertToInteractive',\n",
              "                                                    [key], {});\n",
              "        if (!dataTable) return;\n",
              "\n",
              "        const docLinkHtml = 'Like what you see? Visit the ' +\n",
              "          '<a target=\"_blank\" href=https://colab.research.google.com/notebooks/data_table.ipynb>data table notebook</a>'\n",
              "          + ' to learn more about interactive tables.';\n",
              "        element.innerHTML = '';\n",
              "        dataTable['output_type'] = 'display_data';\n",
              "        await google.colab.output.renderOutput(dataTable, element);\n",
              "        const docLink = document.createElement('div');\n",
              "        docLink.innerHTML = docLinkHtml;\n",
              "        element.appendChild(docLink);\n",
              "      }\n",
              "    </script>\n",
              "  </div>\n",
              "\n",
              "\n",
              "    <div id=\"df-fe5343d4-3090-4b22-9b99-7e5858c43939\">\n",
              "      <button class=\"colab-df-quickchart\" onclick=\"quickchart('df-fe5343d4-3090-4b22-9b99-7e5858c43939')\"\n",
              "                title=\"Suggest charts\"\n",
              "                style=\"display:none;\">\n",
              "\n",
              "<svg xmlns=\"http://www.w3.org/2000/svg\" height=\"24px\"viewBox=\"0 0 24 24\"\n",
              "     width=\"24px\">\n",
              "    <g>\n",
              "        <path d=\"M19 3H5c-1.1 0-2 .9-2 2v14c0 1.1.9 2 2 2h14c1.1 0 2-.9 2-2V5c0-1.1-.9-2-2-2zM9 17H7v-7h2v7zm4 0h-2V7h2v10zm4 0h-2v-4h2v4z\"/>\n",
              "    </g>\n",
              "</svg>\n",
              "      </button>\n",
              "\n",
              "<style>\n",
              "  .colab-df-quickchart {\n",
              "      --bg-color: #E8F0FE;\n",
              "      --fill-color: #1967D2;\n",
              "      --hover-bg-color: #E2EBFA;\n",
              "      --hover-fill-color: #174EA6;\n",
              "      --disabled-fill-color: #AAA;\n",
              "      --disabled-bg-color: #DDD;\n",
              "  }\n",
              "\n",
              "  [theme=dark] .colab-df-quickchart {\n",
              "      --bg-color: #3B4455;\n",
              "      --fill-color: #D2E3FC;\n",
              "      --hover-bg-color: #434B5C;\n",
              "      --hover-fill-color: #FFFFFF;\n",
              "      --disabled-bg-color: #3B4455;\n",
              "      --disabled-fill-color: #666;\n",
              "  }\n",
              "\n",
              "  .colab-df-quickchart {\n",
              "    background-color: var(--bg-color);\n",
              "    border: none;\n",
              "    border-radius: 50%;\n",
              "    cursor: pointer;\n",
              "    display: none;\n",
              "    fill: var(--fill-color);\n",
              "    height: 32px;\n",
              "    padding: 0;\n",
              "    width: 32px;\n",
              "  }\n",
              "\n",
              "  .colab-df-quickchart:hover {\n",
              "    background-color: var(--hover-bg-color);\n",
              "    box-shadow: 0 1px 2px rgba(60, 64, 67, 0.3), 0 1px 3px 1px rgba(60, 64, 67, 0.15);\n",
              "    fill: var(--button-hover-fill-color);\n",
              "  }\n",
              "\n",
              "  .colab-df-quickchart-complete:disabled,\n",
              "  .colab-df-quickchart-complete:disabled:hover {\n",
              "    background-color: var(--disabled-bg-color);\n",
              "    fill: var(--disabled-fill-color);\n",
              "    box-shadow: none;\n",
              "  }\n",
              "\n",
              "  .colab-df-spinner {\n",
              "    border: 2px solid var(--fill-color);\n",
              "    border-color: transparent;\n",
              "    border-bottom-color: var(--fill-color);\n",
              "    animation:\n",
              "      spin 1s steps(1) infinite;\n",
              "  }\n",
              "\n",
              "  @keyframes spin {\n",
              "    0% {\n",
              "      border-color: transparent;\n",
              "      border-bottom-color: var(--fill-color);\n",
              "      border-left-color: var(--fill-color);\n",
              "    }\n",
              "    20% {\n",
              "      border-color: transparent;\n",
              "      border-left-color: var(--fill-color);\n",
              "      border-top-color: var(--fill-color);\n",
              "    }\n",
              "    30% {\n",
              "      border-color: transparent;\n",
              "      border-left-color: var(--fill-color);\n",
              "      border-top-color: var(--fill-color);\n",
              "      border-right-color: var(--fill-color);\n",
              "    }\n",
              "    40% {\n",
              "      border-color: transparent;\n",
              "      border-right-color: var(--fill-color);\n",
              "      border-top-color: var(--fill-color);\n",
              "    }\n",
              "    60% {\n",
              "      border-color: transparent;\n",
              "      border-right-color: var(--fill-color);\n",
              "    }\n",
              "    80% {\n",
              "      border-color: transparent;\n",
              "      border-right-color: var(--fill-color);\n",
              "      border-bottom-color: var(--fill-color);\n",
              "    }\n",
              "    90% {\n",
              "      border-color: transparent;\n",
              "      border-bottom-color: var(--fill-color);\n",
              "    }\n",
              "  }\n",
              "</style>\n",
              "\n",
              "      <script>\n",
              "        async function quickchart(key) {\n",
              "          const quickchartButtonEl =\n",
              "            document.querySelector('#' + key + ' button');\n",
              "          quickchartButtonEl.disabled = true;  // To prevent multiple clicks.\n",
              "          quickchartButtonEl.classList.add('colab-df-spinner');\n",
              "          try {\n",
              "            const charts = await google.colab.kernel.invokeFunction(\n",
              "                'suggestCharts', [key], {});\n",
              "          } catch (error) {\n",
              "            console.error('Error during call to suggestCharts:', error);\n",
              "          }\n",
              "          quickchartButtonEl.classList.remove('colab-df-spinner');\n",
              "          quickchartButtonEl.classList.add('colab-df-quickchart-complete');\n",
              "        }\n",
              "        (() => {\n",
              "          let quickchartButtonEl =\n",
              "            document.querySelector('#df-fe5343d4-3090-4b22-9b99-7e5858c43939 button');\n",
              "          quickchartButtonEl.style.display =\n",
              "            google.colab.kernel.accessAllowed ? 'block' : 'none';\n",
              "        })();\n",
              "      </script>\n",
              "    </div>\n",
              "\n",
              "    </div>\n",
              "  </div>\n"
            ],
            "application/vnd.google.colaboratory.intrinsic+json": {
              "type": "dataframe",
              "summary": "{\n  \"name\": \"df\",\n  \"rows\": 4,\n  \"fields\": [\n    {\n      \"column\": \"customer_id,credit_score,country,gender,age,tenure,balance,products_number,credit_card,active_member,estimated_salary,churn\",\n      \"properties\": {\n        \"dtype\": \"string\",\n        \"num_unique_values\": 3,\n        \"samples\": [\n          \"10000\",\n          \"15656710,613,France,Male,40,4,0,1,0,0,151325.24,0\",\n          \"1\"\n        ],\n        \"semantic_type\": \"\",\n        \"description\": \"\"\n      }\n    }\n  ]\n}"
            }
          },
          "metadata": {},
          "execution_count": 3
        }
      ]
    },
    {
      "cell_type": "markdown",
      "source": [
        "check for missing values and Duplicates\n"
      ],
      "metadata": {
        "id": "z0S3gtoLrjYH"
      }
    },
    {
      "cell_type": "code",
      "source": [
        "print(df.isnull().sum()) # Correct the method name to isnull()\n",
        "print(\"Duplicate rows:\",df.duplicated().sum())"
      ],
      "metadata": {
        "colab": {
          "base_uri": "https://localhost:8080/"
        },
        "id": "0XeLpFVLr0T9",
        "outputId": "67a1bd20-2703-4e87-cf06-35516cc884b7"
      },
      "execution_count": null,
      "outputs": [
        {
          "output_type": "stream",
          "name": "stdout",
          "text": [
            "customer_id,credit_score,country,gender,age,tenure,balance,products_number,credit_card,active_member,estimated_salary,churn    0\n",
            "dtype: int64\n",
            "Duplicate rows: 0\n"
          ]
        }
      ]
    },
    {
      "cell_type": "markdown",
      "source": [
        "visualize a Few Features"
      ],
      "metadata": {
        "id": "MnDT4qoBtFR9"
      }
    },
    {
      "cell_type": "code",
      "source": [
        "import pandas as pd\n",
        "import seaborn as sns\n",
        "import matplotlib.pyplot as plt\n",
        "\n",
        "# Load the dataset (update path if needed)\n",
        "df = pd.read_csv('Bank Customer Churn Prediction.csv')\n",
        "\n",
        "# Show available columns\n",
        "print(\"Columns in dataset:\", df.columns)\n",
        "\n",
        "# Set style for better visuals\n",
        "sns.set(style=\"whitegrid\")\n",
        "\n",
        "# 1. Distribution of Credit Score\n",
        "plt.figure(figsize=(8, 5))\n",
        "# Changed 'Credit_Score' to 'creditscore'\n",
        "sns.histplot(df['credit_score'], kde=True, color='dodgerblue')\n",
        "plt.title('Distribution of Credit Score')\n",
        "plt.xlabel('Credit Score')\n",
        "plt.ylabel('Frequency')\n",
        "plt.show()\n",
        "\n",
        "# 2. Boxplot: Credit Score by Churn Status\n",
        "plt.figure(figsize=(8, 5))\n",
        "sns.boxplot(x='gender', y='credit_score', data=df, palette='Set2')\n",
        "plt.title('Credit Score by Churn Status')\n",
        "plt.xlabel('Churned (1 = Yes, 0 = No)')\n",
        "plt.ylabel('Credit Score')\n",
        "plt.show()\n",
        "\n",
        "# 3. Countplot: Number of Customers by Geography\n",
        "plt.figure(figsize=(8, 5))\n",
        "sns.countplot(x='gender', data=df, palette='pastel')\n",
        "plt.title('Customer Distribution by Geography')\n",
        "plt.xlabel('Country')\n",
        "plt.ylabel('Number of Customers')\n",
        "plt.show()\n",
        "\n",
        "# 4. Countplot: Churn Rate by Gender\n",
        "plt.figure(figsize=(8, 5))\n",
        "sns.countplot(x='gender', hue='age', data=df, palette='Set1')\n",
        "plt.title('Churn Count by Gender')\n",
        "plt.xlabel('Gender')\n",
        "plt.ylabel('Number of Customers')\n",
        "plt.legend(title='Churned')\n",
        "plt.show()"
      ],
      "metadata": {
        "colab": {
          "base_uri": "https://localhost:8080/",
          "height": 1000
        },
        "id": "tw7eZzcXtQd5",
        "outputId": "fbaf10b7-85cf-4cdf-b341-b6965f81e258"
      },
      "execution_count": null,
      "outputs": [
        {
          "output_type": "stream",
          "name": "stdout",
          "text": [
            "Columns in dataset: Index(['customer_id', 'credit_score', 'country', 'gender', 'age', 'tenure',\n",
            "       'balance', 'products_number', 'credit_card', 'active_member',\n",
            "       'estimated_salary', 'churn'],\n",
            "      dtype='object')\n"
          ]
        },
        {
          "output_type": "display_data",
          "data": {
            "text/plain": [
              "<Figure size 800x500 with 1 Axes>"
            ],
            "image/png": "[encoded data removed]"
          },
          "metadata": {}
        },
        {
          "output_type": "stream",
          "name": "stderr",
          "text": [
            "<ipython-input-5-2918bda78e5b>:25: FutureWarning: \n",
            "\n",
            "Passing `palette` without assigning `hue` is deprecated and will be removed in v0.14.0. Assign the `x` variable to `hue` and set `legend=False` for the same effect.\n",
            "\n",
            "  sns.boxplot(x='gender', y='credit_score', data=df, palette='Set2')\n"
          ]
        },
        {
          "output_type": "display_data",
          "data": {
            "text/plain": [
              "<Figure size 800x500 with 1 Axes>"
            ],
            "image/png": "[encoded data removed]"
          },
          "metadata": {}
        },
        {
          "output_type": "stream",
          "name": "stderr",
          "text": [
            "<ipython-input-5-2918bda78e5b>:33: FutureWarning: \n",
            "\n",
            "Passing `palette` without assigning `hue` is deprecated and will be removed in v0.14.0. Assign the `x` variable to `hue` and set `legend=False` for the same effect.\n",
            "\n",
            "  sns.countplot(x='gender', data=df, palette='pastel')\n"
          ]
        },
        {
          "output_type": "display_data",
          "data": {
            "text/plain": [
              "<Figure size 800x500 with 1 Axes>"
            ],
            "image/png": "[encoded data removed]"
          },
          "metadata": {}
        },
        {
          "output_type": "display_data",
          "data": {
            "text/plain": [
              "<Figure size 800x500 with 1 Axes>"
            ],
            "image/png": "[encoded data removed]"
          },
          "metadata": {}
        }
      ]
    },
    {
      "cell_type": "markdown",
      "source": [
        "Identify Target and Features"
      ],
      "metadata": {
        "id": "nnaFX6NE6szK"
      }
    },
    {
      "cell_type": "code",
      "source": [
        "import pandas as pd\n",
        "\n",
        "# Load dataset\n",
        "df = pd.read_csv('Bank Customer Churn Prediction.csv')\n",
        "\n",
        "# Print all columns\n",
        "print(\"All columns:\", df.columns.tolist())\n",
        "\n",
        "# Define target column\n",
        "target = 'Exited'\n",
        "\n",
        "# Optional: List of columns to drop (identifiers, redundant, or target itself)\n",
        "columns_to_drop = ['RowNumber', 'CustomerId', 'Surname', target]\n",
        "\n",
        "# Define features by excluding identifiers and target\n",
        "features = [col for col in df.columns if col not in columns_to_drop]\n",
        "\n",
        "# Display result\n",
        "print(\"Target column:\", target)\n",
        "print(\"Feature columns:\", features)"
      ],
      "metadata": {
        "colab": {
          "base_uri": "https://localhost:8080/"
        },
        "id": "c9WF2mE26-VC",
        "outputId": "4cc76606-533e-413c-c44d-74d16f21b217"
      },
      "execution_count": null,
      "outputs": [
        {
          "output_type": "stream",
          "name": "stdout",
          "text": [
            "All columns: ['customer_id', 'credit_score', 'country', 'gender', 'age', 'tenure', 'balance', 'products_number', 'credit_card', 'active_member', 'estimated_salary', 'churn']\n",
            "Target column: Exited\n",
            "Feature columns: ['customer_id', 'credit_score', 'country', 'gender', 'age', 'tenure', 'balance', 'products_number', 'credit_card', 'active_member', 'estimated_salary', 'churn']\n"
          ]
        }
      ]
    },
    {
      "cell_type": "markdown",
      "source": [
        "Convert Categorical Columns to Numerical"
      ],
      "metadata": {
        "id": "noke_s3L7Yc-"
      }
    },
    {
      "cell_type": "code",
      "source": [
        "import pandas as pd\n",
        "from sklearn.preprocessing import LabelEncoder, OneHotEncoder\n",
        "\n",
        "# Load the dataset\n",
        "df = pd.read_csv(\"Bank Customer Churn Prediction.csv\")\n",
        "\n",
        "# Print initial columns\n",
        "print(\"Initial Columns:\\n\", df.dtypes)\n",
        "\n",
        "# Option 1: Label Encoding for binary categorical variables (e.g., Gender)\n",
        "label_encoder = LabelEncoder()\n",
        "df['age'] = label_encoder.fit_transform(df['age'])\n",
        "\n",
        "# Option 2: One-Hot Encoding for multi-class categorical variables (e.g., Geography)\n",
        "df = pd.get_dummies(df, columns=['gender'], drop_first=True)\n",
        "\n",
        "# Display the transformed dataset\n",
        "print(\"\\nTransformed DataFrame:\\n\", df.head())\n"
      ],
      "metadata": {
        "colab": {
          "base_uri": "https://localhost:8080/"
        },
        "id": "ZfKnvoKqWPKI",
        "outputId": "58b0bded-ed69-46bb-8fc8-17a9c05c6952"
      },
      "execution_count": null,
      "outputs": [
        {
          "output_type": "stream",
          "name": "stdout",
          "text": [
            "Initial Columns:\n",
            " customer_id           int64\n",
            "credit_score          int64\n",
            "country              object\n",
            "gender               object\n",
            "age                   int64\n",
            "tenure                int64\n",
            "balance             float64\n",
            "products_number       int64\n",
            "credit_card           int64\n",
            "active_member         int64\n",
            "estimated_salary    float64\n",
            "churn                 int64\n",
            "dtype: object\n",
            "\n",
            "Transformed DataFrame:\n",
            "    customer_id  credit_score country  age  tenure    balance  products_number  \\\n",
            "0     15634602           619  France   24       2       0.00                1   \n",
            "1     15647311           608   Spain   23       1   83807.86                1   \n",
            "2     15619304           502  France   24       8  159660.80                3   \n",
            "3     15701354           699  France   21       1       0.00                2   \n",
            "4     15737888           850   Spain   25       2  125510.82                1   \n",
            "\n",
            "   credit_card  active_member  estimated_salary  churn  gender_Male  \n",
            "0            1              1         101348.88      1        False  \n",
            "1            0              1         112542.58      0        False  \n",
            "2            1              0         113931.57      1        False  \n",
            "3            0              0          93826.63      0        False  \n",
            "4            1              1          79084.10      0        False  \n"
          ]
        }
      ]
    },
    {
      "cell_type": "markdown",
      "source": [
        "One-Hot Encoding"
      ],
      "metadata": {
        "id": "IUp70jV_W4Ue"
      }
    },
    {
      "cell_type": "code",
      "source": [
        "import pandas as pd\n",
        "\n",
        "# Load the dataset\n",
        "df = pd.read_csv(\"Bank Customer Churn Prediction.csv\")\n",
        "\n",
        "# Display original categorical columns\n",
        "categorical_columns = df.select_dtypes(include=['object']).columns\n",
        "print(\"Categorical Columns Before Encoding:\\n\", categorical_columns)\n",
        "\n",
        "# Apply one-hot encoding to all categorical columns\n",
        "df_encoded = pd.get_dummies(df, columns=categorical_columns, drop_first=True)\n",
        "\n",
        "# Display transformed dataframe\n",
        "print(\"\\nData after One-Hot Encoding:\\n\", df_encoded.head())\n",
        "\n",
        "# Optionally, save the encoded dataset\n",
        "df_encoded.to_csv(\"Churn_Encoded.csv\", index=False)"
      ],
      "metadata": {
        "colab": {
          "base_uri": "https://localhost:8080/"
        },
        "id": "Sy7G8G2NXxne",
        "outputId": "62566364-f9e3-4e69-c9a6-ccb2929dfbc9"
      },
      "execution_count": null,
      "outputs": [
        {
          "output_type": "stream",
          "name": "stdout",
          "text": [
            "Categorical Columns Before Encoding:\n",
            " Index(['country', 'gender'], dtype='object')\n",
            "\n",
            "Data after One-Hot Encoding:\n",
            "    customer_id  credit_score  age  tenure    balance  products_number  \\\n",
            "0     15634602           619   42       2       0.00                1   \n",
            "1     15647311           608   41       1   83807.86                1   \n",
            "2     15619304           502   42       8  159660.80                3   \n",
            "3     15701354           699   39       1       0.00                2   \n",
            "4     15737888           850   43       2  125510.82                1   \n",
            "\n",
            "   credit_card  active_member  estimated_salary  churn  country_Germany  \\\n",
            "0            1              1         101348.88      1            False   \n",
            "1            0              1         112542.58      0            False   \n",
            "2            1              0         113931.57      1            False   \n",
            "3            0              0          93826.63      0            False   \n",
            "4            1              1          79084.10      0            False   \n",
            "\n",
            "   country_Spain  gender_Male  \n",
            "0          False        False  \n",
            "1           True        False  \n",
            "2          False        False  \n",
            "3          False        False  \n",
            "4           True        False  \n"
          ]
        }
      ]
    },
    {
      "cell_type": "markdown",
      "source": [
        "Feature Scaling"
      ],
      "metadata": {
        "id": "2QjdwInEX9DW"
      }
    },
    {
      "cell_type": "code",
      "source": [
        "import pandas as pd\n",
        "from sklearn.preprocessing import StandardScaler\n",
        "\n",
        "# Load the dataset\n",
        "df = pd.read_csv(\"Bank Customer Churn Prediction.csv\")\n",
        "\n",
        "# Drop categorical columns (or encode them first if needed)\n",
        "numerical_df = df.select_dtypes(include=['int64', 'float64'])\n",
        "\n",
        "# Display columns to be scaled\n",
        "print(\"Numerical Columns to Scale:\\n\", numerical_df.columns)\n",
        "\n",
        "# Initialize and apply StandardScaler\n",
        "scaler = StandardScaler()\n",
        "scaled_data = scaler.fit_transform(numerical_df)\n",
        "\n",
        "# Convert scaled data back to a DataFrame\n",
        "scaled_df = pd.DataFrame(scaled_data, columns=numerical_df.columns)\n",
        "\n",
        "# Optionally combine with encoded categorical data if available\n",
        "# final_df = pd.concat([scaled_df, encoded_categorical_df], axis=1)\n",
        "\n",
        "# Output first few rows of scaled data\n",
        "print(\"\\nScaled Data:\\n\", scaled_df.head())\n",
        "\n",
        "# Save the scaled data\n",
        "scaled_df.to_csv(\"Churn_Scaled.csv\", index=False)"
      ],
      "metadata": {
        "colab": {
          "base_uri": "https://localhost:8080/"
        },
        "id": "HZXRUJOpYIUI",
        "outputId": "00ede4f8-cd18-4cb8-fc79-a8a735b5743e"
      },
      "execution_count": null,
      "outputs": [
        {
          "output_type": "stream",
          "name": "stdout",
          "text": [
            "Numerical Columns to Scale:\n",
            " Index(['customer_id', 'credit_score', 'age', 'tenure', 'balance',\n",
            "       'products_number', 'credit_card', 'active_member', 'estimated_salary',\n",
            "       'churn'],\n",
            "      dtype='object')\n",
            "\n",
            "Scaled Data:\n",
            "    customer_id  credit_score       age    tenure   balance  products_number  \\\n",
            "0    -0.783213     -0.326221  0.293517 -1.041760 -1.225848        -0.911583   \n",
            "1    -0.606534     -0.440036  0.198164 -1.387538  0.117350        -0.911583   \n",
            "2    -0.995885     -1.536794  0.293517  1.032908  1.333053         2.527057   \n",
            "3     0.144767      0.501521  0.007457 -1.387538 -1.225848         0.807737   \n",
            "4     0.652659      2.063884  0.388871 -1.041760  0.785728        -0.911583   \n",
            "\n",
            "   credit_card  active_member  estimated_salary     churn  \n",
            "0     0.646092       0.970243          0.021886  1.977165  \n",
            "1    -1.547768       0.970243          0.216534 -0.505775  \n",
            "2     0.646092      -1.030670          0.240687  1.977165  \n",
            "3    -1.547768      -1.030670         -0.108918 -0.505775  \n",
            "4     0.646092       0.970243         -0.365276 -0.505775  \n"
          ]
        }
      ]
    },
    {
      "cell_type": "markdown",
      "source": [
        "Train-Test Split"
      ],
      "metadata": {
        "id": "sEUn1yHXYlyG"
      }
    },
    {
      "cell_type": "code",
      "source": [
        "import pandas as pd\n",
        "from sklearn.model_selection import train_test_split\n",
        "\n",
        "# Load the dataset\n",
        "df = pd.read_csv(\"Bank Customer Churn Prediction.csv\")\n",
        "\n",
        "# OPTIONAL: Encode categorical variables and scale numerical ones before this step\n",
        "\n",
        "# Define input features (X) and target variable (y)\n",
        "# Replace 'Exited' with your actual target column if it's different\n",
        "X = df.drop('gender', axis=1)\n",
        "y = df['gender']\n",
        "\n",
        "# Perform train-test split (80% train, 20% test)\n",
        "X_train, X_test, y_train, y_test = train_test_split(\n",
        "    X, y, test_size=0.2, random_state=42, stratify=y\n",
        ")\n",
        "\n",
        "# Show the shape of each set\n",
        "print(\"Training Features Shape:\", X_train.shape)\n",
        "print(\"Test Features Shape:\", X_test.shape)\n",
        "print(\"Training Labels Shape:\", y_train.shape)\n",
        "print(\"Test Labels Shape:\", y_test.shape)"
      ],
      "metadata": {
        "colab": {
          "base_uri": "https://localhost:8080/"
        },
        "id": "vnhgu0TqYruu",
        "outputId": "784de5ab-7d7e-445c-d2ac-ad15ad8af8e5"
      },
      "execution_count": null,
      "outputs": [
        {
          "output_type": "stream",
          "name": "stdout",
          "text": [
            "Training Features Shape: (8000, 11)\n",
            "Test Features Shape: (2000, 11)\n",
            "Training Labels Shape: (8000,)\n",
            "Test Labels Shape: (2000,)\n"
          ]
        }
      ]
    },
    {
      "cell_type": "markdown",
      "source": [
        "Model Buliding"
      ],
      "metadata": {
        "id": "uHVmgWdKZMX9"
      }
    },
    {
      "cell_type": "code",
      "source": [
        "import pandas as pd\n",
        "from sklearn.model_selection import train_test_split\n",
        "from sklearn.preprocessing import StandardScaler\n",
        "from sklearn.linear_model import LogisticRegression\n",
        "from sklearn.metrics import classification_report, accuracy_score\n",
        "from sklearn.pipeline import Pipeline\n",
        "\n",
        "# Load dataset\n",
        "df = pd.read_csv(\"Bank Customer Churn Prediction.csv\")\n",
        "\n",
        "# Separate target variable\n",
        "y = df['gender']  # Replace 'Exited' with the actual target if different\n",
        "X = df.drop('gender', axis=1)\n",
        "\n",
        "# One-Hot Encode categorical columns\n",
        "X = pd.get_dummies(X, drop_first=True)\n",
        "\n",
        "# Train-test split\n",
        "X_train, X_test, y_train, y_test = train_test_split(\n",
        "    X, y, test_size=0.2, random_state=42, stratify=y\n",
        ")\n",
        "\n",
        "# Create pipeline: scaling + model\n",
        "pipeline = Pipeline([\n",
        "    ('scaler', StandardScaler()),\n",
        "    ('model', LogisticRegression())\n",
        "])\n",
        "\n",
        "# Train the model\n",
        "pipeline.fit(X_train, y_train)\n",
        "\n",
        "# Predict and evaluate\n",
        "y_pred = pipeline.predict(X_test)\n",
        "print(\"Accuracy:\", accuracy_score(y_test, y_pred))\n",
        "print(\"\\nClassification Report:\\n\", classification_report(y_test, y_pred))"
      ],
      "metadata": {
        "colab": {
          "base_uri": "https://localhost:8080/"
        },
        "id": "hzlusd6AZPsH",
        "outputId": "3f47fae2-4dd9-4b79-ca81-62b6826d6bd5"
      },
      "execution_count": null,
      "outputs": [
        {
          "output_type": "stream",
          "name": "stdout",
          "text": [
            "Accuracy: 0.5695\n",
            "\n",
            "Classification Report:\n",
            "               precision    recall  f1-score   support\n",
            "\n",
            "      Female       0.56      0.25      0.35       909\n",
            "        Male       0.57      0.84      0.68      1091\n",
            "\n",
            "    accuracy                           0.57      2000\n",
            "   macro avg       0.57      0.54      0.51      2000\n",
            "weighted avg       0.57      0.57      0.53      2000\n",
            "\n"
          ]
        }
      ]
    },
    {
      "cell_type": "markdown",
      "source": [
        "Evaluation"
      ],
      "metadata": {
        "id": "5sX3A4Z5ZmT2"
      }
    },
    {
      "cell_type": "code",
      "source": [
        " #Import libraries\n",
        "import pandas as pd\n",
        "import numpy as np\n",
        "from sklearn.model_selection import train_test_split\n",
        "from sklearn.preprocessing import LabelEncoder, StandardScaler\n",
        "from sklearn.ensemble import RandomForestClassifier\n",
        "from sklearn.metrics import classification_report, confusion_matrix, accuracy_score, roc_auc_score\n",
        "\n",
        "# Load dataset\n",
        "df = pd.read_csv('Bank Customer Churn Prediction.csv')\n",
        "\n",
        "# Drop unnecessary columns\n",
        "df = df.drop(['credit_score', 'customer_id', 'gender'], axis=1)\n",
        "\n",
        "# Encode categorical variables\n",
        "label_encoder = LabelEncoder()\n",
        "df['age'] = label_encoder.fit_transform(df['age'])\n",
        "df = pd.get_dummies(df, columns=['age'], drop_first=True)\n",
        "\n",
        "# Split features and target\n",
        "X = df.drop('tenure', axis=1)\n",
        "y = df['tenure']\n",
        "\n",
        "# Scale features\n",
        "scaler = StandardScaler()\n",
        "\n",
        "# Train model\n",
        "model = RandomForestClassifier(n_estimators=100, random_state=42)\n",
        "model.fit(X_train, y_train)\n",
        "\n",
        "# Predict\n",
        "y_pred = model.predict(X_test)\n",
        "\n",
        "# Evaluate\n",
        "print(\"Accuracy:\", accuracy_score(y_test, y_pred))\n",
        "print(\"\\nClassification Report:\\n\", classification_report(y_test, y_pred))\n",
        "print(\"\\nConfusion Matrix:\\n\", confusion_matrix(y_test, y_pred))\n",
        "\n",
        "# Feature importance (optional)\n",
        "import matplotlib.pyplot as plt\n",
        "import seaborn as sns\n",
        "\n",
        "feature_importance = model.feature_importances_\n",
        "features = X.columns\n",
        "sorted_idx = np.argsort(feature_importance)\n",
        "\n",
        "plt.figure(figsize=(10, 6))\n",
        "sns.barplot(x=feature_importance[sorted_idx], y=features[sorted_idx])\n",
        "plt.title(\"Feature Importance\")\n",
        "plt.tight_layout()\n",
        "plt.show()"
      ],
      "metadata": {
        "colab": {
          "base_uri": "https://localhost:8080/",
          "height": 715
        },
        "id": "JsbXvh-6pZmi",
        "outputId": "c614bca3-c3ee-4702-9ceb-03977c1c42b5"
      },
      "execution_count": null,
      "outputs": [
        {
          "output_type": "stream",
          "name": "stdout",
          "text": [
            "Accuracy: 0.5205\n",
            "\n",
            "Classification Report:\n",
            "               precision    recall  f1-score   support\n",
            "\n",
            "      Female       0.46      0.35      0.40       909\n",
            "        Male       0.55      0.66      0.60      1091\n",
            "\n",
            "    accuracy                           0.52      2000\n",
            "   macro avg       0.51      0.51      0.50      2000\n",
            "weighted avg       0.51      0.52      0.51      2000\n",
            "\n",
            "\n",
            "Confusion Matrix:\n",
            " [[319 590]\n",
            " [369 722]]\n"
          ]
        },
        {
          "output_type": "display_data",
          "data": {
            "text/plain": [
              "<Figure size 1000x600 with 1 Axes>"
            ],
            "image/png": "[encoded data removed]"
          },
          "metadata": {}
        }
      ]
    },
    {
      "cell_type": "markdown",
      "source": [
        "make predictions from New Input"
      ],
      "metadata": {
        "id": "0qbpuuyGr20K"
      }
    },
    {
      "cell_type": "code",
      "source": [
        "import pandas as pd\n",
        "import numpy as np\n",
        "from sklearn.model_selection import train_test_split\n",
        "from sklearn.preprocessing import LabelEncoder, StandardScaler\n",
        "from sklearn.ensemble import RandomForestClassifier\n",
        "\n",
        "# Step 1: Load and prepare dataset\n",
        "df = pd.read_csv(\"Bank Customer Churn Prediction.csv\")\n",
        "\n",
        "# Drop unnecessary columns\n",
        "df = df.drop([\"customer_id\", \"customer_id\", \"gender\"], axis=1)\n",
        "\n",
        "# Encode 'Gender'\n",
        "le = LabelEncoder()\n",
        "df[\"age\"] = le.fit_transform(df[\"age\"])  # Male=1, Female=0\n",
        "\n",
        "# One-hot encode 'Geography'\n",
        "df = pd.get_dummies(df, columns=[\"age\"], drop_first=True)\n",
        "\n",
        "# Separate features and target\n",
        "X = df.drop(\"tenure\", axis=1)\n",
        "y = df[\"tenure\"]\n",
        "\n",
        "# Scale features\n",
        "scaler = StandardScaler()\n",
        "\n",
        "# Train the model\n",
        "model = RandomForestClassifier(n_estimators=100, random_state=42)\n",
        "model.fit(X_train, y_train)\n",
        "\n",
        "# Step 2: Make Prediction on New Input\n",
        "# Sample new input\n",
        "new_customer = {\n",
        "    \"CreditScore\": 650,\n",
        "    \"Gender\": \"Male\",\n",
        "    \"Age\": 42,\n",
        "    \"Tenure\": 5,\n",
        "    \"Balance\": 70000.0,\n",
        "    \"NumOfProducts\": 1,\n",
        "    \"HasCrCard\": 1,\n",
        "    \"IsActiveMember\": 1,\n",
        "    \"EstimatedSalary\": 50000.0,\n",
        "    \"Geography_Germany\": 0,\n",
        "    \"Geography_Spain\": 1\n",
        "}\n",
        "\n",
        "# Convert to DataFrame\n",
        "new_input_df = pd.DataFrame([new_customer])\n",
        "\n",
        "# Output result\n",
        "print(\"\\n--- Prediction Result ---\")"
      ],
      "metadata": {
        "colab": {
          "base_uri": "https://localhost:8080/"
        },
        "id": "NktFPVdKsXF5",
        "outputId": "b67a4a6f-72d0-429f-87b4-b44ace3b05f4"
      },
      "execution_count": null,
      "outputs": [
        {
          "output_type": "stream",
          "name": "stdout",
          "text": [
            "\n",
            "--- Prediction Result ---\n"
          ]
        }
      ]
    },
    {
      "cell_type": "markdown",
      "source": [
        "Convert to Dataframe and Encode"
      ],
      "metadata": {
        "id": "fi_zJD0uvQ_B"
      }
    },
    {
      "cell_type": "code",
      "source": [
        "# Example: New customer input (as dictionary)\n",
        "new_customer = {\n",
        "    \"CreditScore\": 650,\n",
        "    \"Gender\": \"Male\",\n",
        "    \"Age\": 42,\n",
        "    \"Tenure\": 5,\n",
        "    \"Balance\": 70000.0,\n",
        "    \"NumOfProducts\": 1,\n",
        "    \"HasCrCard\": 1,\n",
        "    \"IsActiveMember\": 1,\n",
        "    \"EstimatedSalary\": 50000.0,\n",
        "    \"Geography\": \"Spain\"\n",
        "}\n",
        "\n",
        "# Convert to DataFrame\n",
        "input_df = pd.DataFrame([new_customer])\n",
        "\n",
        "# Encode 'Gender' using the same LabelEncoder from training\n",
        "input_df[\"Age\"] = le.transform(input_df[\"Age\"])  # Male: 1, Female: 0\n",
        "\n",
        "# One-hot encode 'Geography' to match training (Germany and Spain; drop France)\n",
        "# We manually add missing dummy columns if not present\n",
        "geo_dummies = pd.get_dummies(input_df[\"Geography\"], prefix=\"Geography\")\n",
        "if \"Geography_Germany\" not in geo_dummies.columns:\n",
        "    geo_dummies[\"Geography_Germany\"] = 0\n",
        "if \"Geography_Spain\" not in geo_dummies.columns:\n",
        "    geo_dummies[\"Geography_Spain\"] = 0\n",
        "geo_dummies = geo_dummies[[\"Geography_Germany\", \"Geography_Spain\"]]\n",
        "\n",
        "# Drop original 'Geography' and add dummy columns\n",
        "input_df = input_df.drop(\"Gender\", axis=1)\n",
        "input_df = pd.concat([input_df, geo_dummies], axis=1)\n"
      ],
      "metadata": {
        "id": "6UpEHMkRvWW_"
      },
      "execution_count": null,
      "outputs": []
    },
    {
      "cell_type": "markdown",
      "source": [
        "Predict the Final Grade"
      ],
      "metadata": {
        "id": "PBvFYcgLyx76"
      }
    },
    {
      "cell_type": "code",
      "source": [
        "import pandas as pd\n",
        "import numpy as np\n",
        "from sklearn.model_selection import train_test_split\n",
        "from sklearn.preprocessing import LabelEncoder, StandardScaler\n",
        "from sklearn.ensemble import RandomForestRegressor\n",
        "from sklearn.metrics import mean_squared_error, r2_score\n",
        "\n",
        "# Step 1: Load dataset (replace with your actual file)\n",
        "df = pd.read_csv('Bank Customer Churn Prediction.csv')  # Example CSV\n",
        "\n",
        "# Step 2: Preprocessing\n",
        "# Assume features include: Gender, StudyTime, Absences, PreviousGrades, etc.\n",
        "# Target: FinalGrade\n",
        "\n",
        "# Encode categorical features\n",
        "le = LabelEncoder()\n",
        "df['age'] = le.fit_transform(df['age'])  # Male=1, Female=0\n",
        "\n",
        "# Separate features and target\n",
        "X = df.drop('gender', axis=1)\n",
        "y = df['gender']\n",
        "\n",
        "# Scale features\n",
        "scaler = StandardScaler()\n",
        "\n",
        "# Step 3: Train regression model\n",
        "model = RandomForestRegressor(n_estimators=100, random_state=42)\n",
        "\n",
        "# Step 4: Predict on new student input\n",
        "new_student = {\n",
        "    'Gender': 'Male',\n",
        "    'StudyTime': 3,\n",
        "    'Absences': 2,\n",
        "    'PreviousGrades': 75\n",
        "}\n",
        "\n",
        "# Convert to DataFrame\n",
        "input_df = pd.DataFrame([new_student])\n",
        "\n",
        "print(\"\\n--- Final Grade Prediction ---\")\n",
        "\n",
        "# (Optional) Evaluate model\n",
        "print(\"\\nModel Evaluation:\")"
      ],
      "metadata": {
        "colab": {
          "base_uri": "https://localhost:8080/"
        },
        "id": "gKT5g2BOy3lr",
        "outputId": "6dbca928-33d8-4309-9953-ea18d2908937"
      },
      "execution_count": null,
      "outputs": [
        {
          "output_type": "stream",
          "name": "stdout",
          "text": [
            "\n",
            "--- Final Grade Prediction ---\n",
            "\n",
            "Model Evaluation:\n"
          ]
        }
      ]
    },
    {
      "cell_type": "markdown",
      "source": [
        "Deployment-Building an Interactive App"
      ],
      "metadata": {
        "id": "nKKiKnXZ0TOZ"
      }
    },
    {
      "cell_type": "code",
      "source": [
        "# train_model.py\n",
        "import pandas as pd\n",
        "from sklearn.ensemble import RandomForestClassifier\n",
        "from sklearn.model_selection import train_test_split\n",
        "from sklearn.preprocessing import LabelEncoder, StandardScaler\n",
        "import pickle\n",
        "\n",
        "# Load data\n",
        "df = pd.read_csv('Bank Customer Churn Prediction.csv')\n",
        "df.drop(['customer_id', 'customer_id', 'gender'], axis=1, inplace=True)\n",
        "\n",
        "# Encode Gender and Geography\n",
        "le = LabelEncoder()\n",
        "df['age'] = le.fit_transform(df['age'])\n",
        "df = pd.get_dummies(df, columns=['age'], drop_first=True)\n",
        "\n",
        "X = df.drop('tenure', axis=1)\n",
        "y = df['tenure']\n",
        "\n",
        "scaler = StandardScaler()\n",
        "\n",
        "model = RandomForestClassifier(n_estimators=100, random_state=42)\n",
        "model.fit(X_train, y_train)\n",
        "\n",
        "# Save model, scaler, encoder\n",
        "pickle.dump(model, open('model.pkl', 'wb'))\n",
        "pickle.dump(scaler, open('scaler.pkl', 'wb'))\n",
        "pickle.dump(le, open('label_encoder.pkl', 'wb'))"
      ],
      "metadata": {
        "id": "XNxdoD200e0i"
      },
      "execution_count": null,
      "outputs": []
    },
    {
      "cell_type": "markdown",
      "source": [
        "Create a Prediction Function"
      ],
      "metadata": {
        "id": "a3BUfym91Z3C"
      }
    },
    {
      "cell_type": "code",
      "source": [
        "def predict_churn(customer_data, model, scaler, label_encoder):\n",
        "    \"\"\"\n",
        "    Predict whether a bank customer will churn.\n",
        "\n",
        "    Parameters:\n",
        "    - customer_data (dict): Input data for one customer.\n",
        "    - model: Trained classifier (e.g., RandomForestClassifier).\n",
        "    - scaler: Trained StandardScaler.\n",
        "    - label_encoder: Trained LabelEncoder for Gender.\n",
        "\n",
        "    Returns:\n",
        "    - prediction (int): 1 = churn, 0 = no churn\n",
        "    - probability (float): Churn probability\n",
        "    \"\"\"\n",
        "    import numpy as np\n",
        "    import pandas as pd\n",
        "\n",
        "    # Convert dict to DataFrame\n",
        "    input_df = pd.DataFrame([customer_data])\n",
        "\n",
        "    # Encode Gender\n",
        "    input_df[\"Gender\"] = label_encoder.transform(input_df[\"Gender\"])\n",
        "\n",
        "    # One-hot encode Geography manually (France is the base, dropped in training)\n",
        "    geo_germany = 1 if customer_data[\"Geography\"] == \"Germany\" else 0\n",
        "    geo_spain = 1 if customer_data[\"Geography\"] == \"Spain\" else 0\n",
        "\n",
        "    input_df[\"Geography_Germany\"] = geo_germany\n",
        "    input_df[\"Geography_Spain\"] = geo_spain\n",
        "    input_df = input_df.drop(\"Geography\", axis=1)\n",
        "\n",
        "    # Ensure column order matches training\n",
        "    feature_order = [\n",
        "        'CreditScore', 'Gender', 'Age', 'Tenure', 'Balance',\n",
        "        'NumOfProducts', 'HasCrCard', 'IsActiveMember', 'EstimatedSalary',\n",
        "        'Geography_Germany', 'Geography_Spain'\n",
        "    ]\n",
        "    input_df = input_df[feature_order]\n",
        "\n",
        "    # Scale\n",
        "    input_scaled = scaler.transform(input_df)\n",
        "\n",
        "    # Predict\n",
        "    prediction = model.predict(input_scaled)[0]\n",
        "    probability = model.predict_proba(input_scaled)[0][1]\n",
        "\n",
        "    return prediction, probability\n"
      ],
      "metadata": {
        "id": "uDs9x7eD1jrJ"
      },
      "execution_count": null,
      "outputs": []
    },
    {
      "cell_type": "markdown",
      "source": [
        "Create the Gradio Interface"
      ],
      "metadata": {
        "id": "2P0l3Q-62WfH"
      }
    },
    {
      "cell_type": "code",
      "source": [
        "!pip install gradio\n",
        "import gradio as gr\n",
        "import numpy as np\n",
        "import pandas as pd\n",
        "import pickle\n",
        "\n",
        "# Load model and preprocessors\n",
        "model = pickle.load(open(\"model.pkl\", \"rb\"))\n",
        "scaler = pickle.load(open(\"scaler.pkl\", \"rb\"))\n",
        "label_encoder = pickle.load(open(\"label_encoder.pkl\", \"rb\"))\n",
        "\n",
        "# Prediction Function\n",
        "def predict_churn(credit_score, gender, age, tenure, balance,\n",
        "                  num_products, has_cr_card, is_active, salary, geography):\n",
        "\n",
        "    # Prepare input dictionary\n",
        "    input_dict = {\n",
        "        \"CreditScore\": credit_score,\n",
        "        \"Gender\": gender,\n",
        "        \"Age\": age,\n",
        "        \"Tenure\": tenure,\n",
        "        \"Balance\": balance,\n",
        "        \"NumOfProducts\": num_products,\n",
        "        \"HasCrCard\": has_cr_card,\n",
        "        \"IsActiveMember\": is_active,\n",
        "        \"EstimatedSalary\": salary,\n",
        "        \"Geography\": geography\n",
        "    }\n",
        "\n",
        "    # Convert to DataFrame\n",
        "    df = pd.DataFrame([input_dict])\n",
        "    df[\"Gender\"] = label_encoder.transform(df[\"Gender\"])\n",
        "\n",
        "    # One-hot encode Geography\n",
        "    df[\"Geography_Germany\"] = 1 if geography == \"Germany\" else 0\n",
        "    df[\"Geography_Spain\"] = 1 if geography == \"Spain\" else 0\n",
        "    df = df.drop(\"Geography\", axis=1)\n",
        "\n",
        "    # Arrange columns to match training\n",
        "    column_order = [\n",
        "        \"CreditScore\", \"Gender\", \"Age\", \"Tenure\", \"Balance\",\n",
        "        \"NumOfProducts\", \"HasCrCard\", \"IsActiveMember\", \"EstimatedSalary\",\n",
        "        \"Geography_Germany\", \"Geography_Spain\"\n",
        "    ]\n",
        "    df = df[column_order]\n",
        "\n",
        "    # Scale and predict\n",
        "    scaled_input = scaler.transform(df)\n",
        "    pred = model.predict(scaled_input)[0]\n",
        "    prob = model.predict_proba(scaled_input)[0][1]\n",
        "\n",
        "    # Return result\n",
        "    result = \"Churn ❌\" if pred == 1 else \"No Churn ✅\"\n",
        "    return f\"{result} (Churn Probability: {prob:.2%})\"\n",
        "\n",
        "# Define inputs\n",
        "inputs = [\n",
        "    gr.Slider(300, 900, value=600, label=\"Credit Score\"),\n",
        "    gr.Radio([\"Male\", \"Female\"], label=\"Gender\"),\n",
        "    gr.Slider(18, 100, value=40, label=\"Age\"),\n",
        "    gr.Slider(0, 10, value=3, label=\"Tenure\"),\n",
        "    gr.Number(value=50000.0, label=\"Balance\"),\n",
        "    gr.Radio([1, 2, 3, 4], label=\"Number of Products\"),\n",
        "    gr.Radio([0, 1], label=\"Has Credit Card (1=Yes, 0=No)\"),\n",
        "    gr.Radio([0, 1], label=\"Is Active Member (1=Yes, 0=No)\"),\n",
        "    gr.Number(value=60000.0, label=\"Estimated Salary\"),\n",
        "    gr.Radio([\"France\", \"Germany\", \"Spain\"], label=\"Geography\"),\n",
        "]\n",
        "\n",
        "# Launch Gradio app\n",
        "gr.Interface(fn=predict_churn, inputs=inputs, outputs=\"text\", title=\"🏦 Bank Customer Churn Predictor\").launch()\n"
      ],
      "metadata": {
        "colab": {
          "base_uri": "https://localhost:8080/",
          "height": 1000
        },
        "id": "qI6me57823eD",
        "outputId": "6016e6c1-37c0-4426-cfda-a8fae18043ed"
      },
      "execution_count": null,
      "outputs": [
        {
          "output_type": "stream",
          "name": "stdout",
          "text": [
            "Collecting gradio\n",
            "  Downloading gradio-5.29.0-py3-none-any.whl.metadata (16 kB)\n",
            "Collecting aiofiles<25.0,>=22.0 (from gradio)\n",
            "  Downloading aiofiles-24.1.0-py3-none-any.whl.metadata (10 kB)\n",
            "Requirement already satisfied: anyio<5.0,>=3.0 in /usr/local/lib/python3.11/dist-packages (from gradio) (4.9.0)\n",
            "Collecting fastapi<1.0,>=0.115.2 (from gradio)\n",
            "  Downloading fastapi-0.115.12-py3-none-any.whl.metadata (27 kB)\n",
            "Collecting ffmpy (from gradio)\n",
            "  Downloading ffmpy-0.5.0-py3-none-any.whl.metadata (3.0 kB)\n",
            "Collecting gradio-client==1.10.0 (from gradio)\n",
            "  Downloading gradio_client-1.10.0-py3-none-any.whl.metadata (7.1 kB)\n",
            "Collecting groovy~=0.1 (from gradio)\n",
            "  Downloading groovy-0.1.2-py3-none-any.whl.metadata (6.1 kB)\n",
            "Requirement already satisfied: httpx>=0.24.1 in /usr/local/lib/python3.11/dist-packages (from gradio) (0.28.1)\n",
            "Requirement already satisfied: huggingface-hub>=0.28.1 in /usr/local/lib/python3.11/dist-packages (from gradio) (0.30.2)\n",
            "Requirement already satisfied: jinja2<4.0 in /usr/local/lib/python3.11/dist-packages (from gradio) (3.1.6)\n",
            "Requirement already satisfied: markupsafe<4.0,>=2.0 in /usr/local/lib/python3.11/dist-packages (from gradio) (3.0.2)\n",
            "Requirement already satisfied: numpy<3.0,>=1.0 in /usr/local/lib/python3.11/dist-packages (from gradio) (2.0.2)\n",
            "Requirement already satisfied: orjson~=3.0 in /usr/local/lib/python3.11/dist-packages (from gradio) (3.10.18)\n",
            "Requirement already satisfied: packaging in /usr/local/lib/python3.11/dist-packages (from gradio) (24.2)\n",
            "Requirement already satisfied: pandas<3.0,>=1.0 in /usr/local/lib/python3.11/dist-packages (from gradio) (2.2.2)\n",
            "Requirement already satisfied: pillow<12.0,>=8.0 in /usr/local/lib/python3.11/dist-packages (from gradio) (11.2.1)\n",
            "Requirement already satisfied: pydantic<2.12,>=2.0 in /usr/local/lib/python3.11/dist-packages (from gradio) (2.11.4)\n",
            "Collecting pydub (from gradio)\n",
            "  Downloading pydub-0.25.1-py2.py3-none-any.whl.metadata (1.4 kB)\n",
            "Collecting python-multipart>=0.0.18 (from gradio)\n",
            "  Downloading python_multipart-0.0.20-py3-none-any.whl.metadata (1.8 kB)\n",
            "Requirement already satisfied: pyyaml<7.0,>=5.0 in /usr/local/lib/python3.11/dist-packages (from gradio) (6.0.2)\n",
            "Collecting ruff>=0.9.3 (from gradio)\n",
            "  Downloading ruff-0.11.8-py3-none-manylinux_2_17_x86_64.manylinux2014_x86_64.whl.metadata (25 kB)\n",
            "Collecting safehttpx<0.2.0,>=0.1.6 (from gradio)\n",
            "  Downloading safehttpx-0.1.6-py3-none-any.whl.metadata (4.2 kB)\n",
            "Collecting semantic-version~=2.0 (from gradio)\n",
            "  Downloading semantic_version-2.10.0-py2.py3-none-any.whl.metadata (9.7 kB)\n",
            "Collecting starlette<1.0,>=0.40.0 (from gradio)\n",
            "  Downloading starlette-0.46.2-py3-none-any.whl.metadata (6.2 kB)\n",
            "Collecting tomlkit<0.14.0,>=0.12.0 (from gradio)\n",
            "  Downloading tomlkit-0.13.2-py3-none-any.whl.metadata (2.7 kB)\n",
            "Requirement already satisfied: typer<1.0,>=0.12 in /usr/local/lib/python3.11/dist-packages (from gradio) (0.15.3)\n",
            "Requirement already satisfied: typing-extensions~=4.0 in /usr/local/lib/python3.11/dist-packages (from gradio) (4.13.2)\n",
            "Collecting uvicorn>=0.14.0 (from gradio)\n",
            "  Downloading uvicorn-0.34.2-py3-none-any.whl.metadata (6.5 kB)\n",
            "Requirement already satisfied: fsspec in /usr/local/lib/python3.11/dist-packages (from gradio-client==1.10.0->gradio) (2025.3.2)\n",
            "Requirement already satisfied: websockets<16.0,>=10.0 in /usr/local/lib/python3.11/dist-packages (from gradio-client==1.10.0->gradio) (15.0.1)\n",
            "Requirement already satisfied: idna>=2.8 in /usr/local/lib/python3.11/dist-packages (from anyio<5.0,>=3.0->gradio) (3.10)\n",
            "Requirement already satisfied: sniffio>=1.1 in /usr/local/lib/python3.11/dist-packages (from anyio<5.0,>=3.0->gradio) (1.3.1)\n",
            "Requirement already satisfied: certifi in /usr/local/lib/python3.11/dist-packages (from httpx>=0.24.1->gradio) (2025.4.26)\n",
            "Requirement already satisfied: httpcore==1.* in /usr/local/lib/python3.11/dist-packages (from httpx>=0.24.1->gradio) (1.0.9)\n",
            "Requirement already satisfied: h11>=0.16 in /usr/local/lib/python3.11/dist-packages (from httpcore==1.*->httpx>=0.24.1->gradio) (0.16.0)\n",
            "Requirement already satisfied: filelock in /usr/local/lib/python3.11/dist-packages (from huggingface-hub>=0.28.1->gradio) (3.18.0)\n",
            "Requirement already satisfied: requests in /usr/local/lib/python3.11/dist-packages (from huggingface-hub>=0.28.1->gradio) (2.32.3)\n",
            "Requirement already satisfied: tqdm>=4.42.1 in /usr/local/lib/python3.11/dist-packages (from huggingface-hub>=0.28.1->gradio) (4.67.1)\n",
            "Requirement already satisfied: python-dateutil>=2.8.2 in /usr/local/lib/python3.11/dist-packages (from pandas<3.0,>=1.0->gradio) (2.9.0.post0)\n",
            "Requirement already satisfied: pytz>=2020.1 in /usr/local/lib/python3.11/dist-packages (from pandas<3.0,>=1.0->gradio) (2025.2)\n",
            "Requirement already satisfied: tzdata>=2022.7 in /usr/local/lib/python3.11/dist-packages (from pandas<3.0,>=1.0->gradio) (2025.2)\n",
            "Requirement already satisfied: annotated-types>=0.6.0 in /usr/local/lib/python3.11/dist-packages (from pydantic<2.12,>=2.0->gradio) (0.7.0)\n",
            "Requirement already satisfied: pydantic-core==2.33.2 in /usr/local/lib/python3.11/dist-packages (from pydantic<2.12,>=2.0->gradio) (2.33.2)\n",
            "Requirement already satisfied: typing-inspection>=0.4.0 in /usr/local/lib/python3.11/dist-packages (from pydantic<2.12,>=2.0->gradio) (0.4.0)\n",
            "Requirement already satisfied: click>=8.0.0 in /usr/local/lib/python3.11/dist-packages (from typer<1.0,>=0.12->gradio) (8.1.8)\n",
            "Requirement already satisfied: shellingham>=1.3.0 in /usr/local/lib/python3.11/dist-packages (from typer<1.0,>=0.12->gradio) (1.5.4)\n",
            "Requirement already satisfied: rich>=10.11.0 in /usr/local/lib/python3.11/dist-packages (from typer<1.0,>=0.12->gradio) (13.9.4)\n",
            "Requirement already satisfied: six>=1.5 in /usr/local/lib/python3.11/dist-packages (from python-dateutil>=2.8.2->pandas<3.0,>=1.0->gradio) (1.17.0)\n",
            "Requirement already satisfied: markdown-it-py>=2.2.0 in /usr/local/lib/python3.11/dist-packages (from rich>=10.11.0->typer<1.0,>=0.12->gradio) (3.0.0)\n",
            "Requirement already satisfied: pygments<3.0.0,>=2.13.0 in /usr/local/lib/python3.11/dist-packages (from rich>=10.11.0->typer<1.0,>=0.12->gradio) (2.19.1)\n",
            "Requirement already satisfied: charset-normalizer<4,>=2 in /usr/local/lib/python3.11/dist-packages (from requests->huggingface-hub>=0.28.1->gradio) (3.4.1)\n",
            "Requirement already satisfied: urllib3<3,>=1.21.1 in /usr/local/lib/python3.11/dist-packages (from requests->huggingface-hub>=0.28.1->gradio) (2.4.0)\n",
            "Requirement already satisfied: mdurl~=0.1 in /usr/local/lib/python3.11/dist-packages (from markdown-it-py>=2.2.0->rich>=10.11.0->typer<1.0,>=0.12->gradio) (0.1.2)\n",
            "Downloading gradio-5.29.0-py3-none-any.whl (54.1 MB)\n",
            "\u001b[2K   \u001b[90m━━━━━━━━━━━━━━━━━━━━━━━━━━━━━━━━━━━━━━━━\u001b[0m \u001b[32m54.1/54.1 MB\u001b[0m \u001b[31m10.0 MB/s\u001b[0m eta \u001b[36m0:00:00\u001b[0m\n",
            "\u001b[?25hDownloading gradio_client-1.10.0-py3-none-any.whl (322 kB)\n",
            "\u001b[2K   \u001b[90m━━━━━━━━━━━━━━━━━━━━━━━━━━━━━━━━━━━━━━━━\u001b[0m \u001b[32m322.9/322.9 kB\u001b[0m \u001b[31m18.6 MB/s\u001b[0m eta \u001b[36m0:00:00\u001b[0m\n",
            "\u001b[?25hDownloading aiofiles-24.1.0-py3-none-any.whl (15 kB)\n",
            "Downloading fastapi-0.115.12-py3-none-any.whl (95 kB)\n",
            "\u001b[2K   \u001b[90m━━━━━━━━━━━━━━━━━━━━━━━━━━━━━━━━━━━━━━━━\u001b[0m \u001b[32m95.2/95.2 kB\u001b[0m \u001b[31m5.8 MB/s\u001b[0m eta \u001b[36m0:00:00\u001b[0m\n",
            "\u001b[?25hDownloading groovy-0.1.2-py3-none-any.whl (14 kB)\n",
            "Downloading python_multipart-0.0.20-py3-none-any.whl (24 kB)\n",
            "Downloading ruff-0.11.8-py3-none-manylinux_2_17_x86_64.manylinux2014_x86_64.whl (11.5 MB)\n",
            "\u001b[2K   \u001b[90m━━━━━━━━━━━━━━━━━━━━━━━━━━━━━━━━━━━━━━━━\u001b[0m \u001b[32m11.5/11.5 MB\u001b[0m \u001b[31m94.4 MB/s\u001b[0m eta \u001b[36m0:00:00\u001b[0m\n",
            "\u001b[?25hDownloading safehttpx-0.1.6-py3-none-any.whl (8.7 kB)\n",
            "Downloading semantic_version-2.10.0-py2.py3-none-any.whl (15 kB)\n",
            "Downloading starlette-0.46.2-py3-none-any.whl (72 kB)\n",
            "\u001b[2K   \u001b[90m━━━━━━━━━━━━━━━━━━━━━━━━━━━━━━━━━━━━━━━━\u001b[0m \u001b[32m72.0/72.0 kB\u001b[0m \u001b[31m5.2 MB/s\u001b[0m eta \u001b[36m0:00:00\u001b[0m\n",
            "\u001b[?25hDownloading tomlkit-0.13.2-py3-none-any.whl (37 kB)\n",
            "Downloading uvicorn-0.34.2-py3-none-any.whl (62 kB)\n",
            "\u001b[2K   \u001b[90m━━━━━━━━━━━━━━━━━━━━━━━━━━━━━━━━━━━━━━━━\u001b[0m \u001b[32m62.5/62.5 kB\u001b[0m \u001b[31m4.5 MB/s\u001b[0m eta \u001b[36m0:00:00\u001b[0m\n",
            "\u001b[?25hDownloading ffmpy-0.5.0-py3-none-any.whl (6.0 kB)\n",
            "Downloading pydub-0.25.1-py2.py3-none-any.whl (32 kB)\n",
            "Installing collected packages: pydub, uvicorn, tomlkit, semantic-version, ruff, python-multipart, groovy, ffmpy, aiofiles, starlette, safehttpx, gradio-client, fastapi, gradio\n",
            "Successfully installed aiofiles-24.1.0 fastapi-0.115.12 ffmpy-0.5.0 gradio-5.29.0 gradio-client-1.10.0 groovy-0.1.2 pydub-0.25.1 python-multipart-0.0.20 ruff-0.11.8 safehttpx-0.1.6 semantic-version-2.10.0 starlette-0.46.2 tomlkit-0.13.2 uvicorn-0.34.2\n",
            "It looks like you are running Gradio on a hosted a Jupyter notebook. For the Gradio app to work, sharing must be enabled. Automatically setting `share=True` (you can turn this off by setting `share=False` in `launch()` explicitly).\n",
            "\n",
            "Colab notebook detected. To show errors in colab notebook, set debug=True in launch()\n",
            "* Running on public URL: https://83e3ff82cf434722bc.gradio.live\n",
            "\n",
            "This share link expires in 1 week. For free permanent hosting and GPU upgrades, run `gradio deploy` from the terminal in the working directory to deploy to Hugging Face Spaces (https://huggingface.co/spaces)\n"
          ]
        },
        {
          "output_type": "display_data",
          "data": {
            "text/plain": [
              "<IPython.core.display.HTML object>"
            ],
            "text/html": [
              "<div><iframe src=\"https://83e3ff82cf434722bc.gradio.live\" width=\"100%\" height=\"500\" allow=\"autoplay; camera; microphone; clipboard-read; clipboard-write;\" frameborder=\"0\" allowfullscreen></iframe></div>"
            ]
          },
          "metadata": {}
        },
        {
          "output_type": "execute_result",
          "data": {
            "text/plain": []
          },
          "metadata": {},
          "execution_count": 79
        }
      ]
    }
  ]
}